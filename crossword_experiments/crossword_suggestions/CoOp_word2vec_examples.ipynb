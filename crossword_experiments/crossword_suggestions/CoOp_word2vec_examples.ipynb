{
  "nbformat": 4,
  "nbformat_minor": 0,
  "metadata": {
    "colab": {
      "name": "CoOp_word2vec_examples.ipynb",
      "provenance": [],
      "collapsed_sections": [
        "baYzYWV7W13F",
        "D6ywqj0UYMdL",
        "aE_-SuTzYy6y",
        "qnshnmb5ZSwk",
        "n8s7MUhiZx4f"
      ],
      "machine_shape": "hm"
    },
    "kernelspec": {
      "name": "python3",
      "display_name": "Python 3"
    },
    "accelerator": "GPU"
  },
  "cells": [
    {
      "cell_type": "markdown",
      "metadata": {
        "id": "Z3hsoN3tQGJO",
        "colab_type": "text"
      },
      "source": [
        "This notebook contains examples of word2vec performance, using pre-trained vectors trained on Google News dataset (about 100 billion words). The model contains 300-dimensional vectors for 3 million words and phrases. "
      ]
    },
    {
      "cell_type": "markdown",
      "metadata": {
        "id": "1p4Pp-0VQXop",
        "colab_type": "text"
      },
      "source": [
        "# Playing with pre-trained word embeddings."
      ]
    },
    {
      "cell_type": "markdown",
      "metadata": {
        "id": "gPMgL7_YQAGx",
        "colab_type": "text"
      },
      "source": [
        "Download the pre-trained word vectors; this takes a minute (~1.5gb)"
      ]
    },
    {
      "cell_type": "code",
      "metadata": {
        "id": "AxtlJuPsP-1S",
        "colab_type": "code",
        "outputId": "f9b04e9d-ea20-4c57-bd59-946a7084f3b1",
        "colab": {
          "base_uri": "https://localhost:8080/",
          "height": 204
        }
      },
      "source": [
        "!wget -P /root/input/ -c \"https://s3.amazonaws.com/dl4j-distribution/GoogleNews-vectors-negative300.bin.gz\""
      ],
      "execution_count": 0,
      "outputs": [
        {
          "output_type": "stream",
          "text": [
            "--2019-11-12 16:06:08--  https://s3.amazonaws.com/dl4j-distribution/GoogleNews-vectors-negative300.bin.gz\n",
            "Resolving s3.amazonaws.com (s3.amazonaws.com)... 52.216.185.125\n",
            "Connecting to s3.amazonaws.com (s3.amazonaws.com)|52.216.185.125|:443... connected.\n",
            "HTTP request sent, awaiting response... 200 OK\n",
            "Length: 1647046227 (1.5G) [application/x-gzip]\n",
            "Saving to: ‘/root/input/GoogleNews-vectors-negative300.bin.gz’\n",
            "\n",
            "GoogleNews-vectors- 100%[===================>]   1.53G  36.6MB/s    in 44s     \n",
            "\n",
            "2019-11-12 16:06:52 (36.0 MB/s) - ‘/root/input/GoogleNews-vectors-negative300.bin.gz’ saved [1647046227/1647046227]\n",
            "\n"
          ],
          "name": "stdout"
        }
      ]
    },
    {
      "cell_type": "markdown",
      "metadata": {
        "id": "v8esoW-EQgdm",
        "colab_type": "text"
      },
      "source": [
        "Install gensim, a useful NLP library that we will use to load word2vec embeddings"
      ]
    },
    {
      "cell_type": "code",
      "metadata": {
        "id": "I80py-ibQnd9",
        "colab_type": "code",
        "outputId": "b28343d9-e6dd-49ac-e113-9de0384698c5",
        "colab": {
          "base_uri": "https://localhost:8080/",
          "height": 326
        }
      },
      "source": [
        "!pip install gensim\n",
        "from gensim.models import KeyedVectors"
      ],
      "execution_count": 0,
      "outputs": [
        {
          "output_type": "stream",
          "text": [
            "Requirement already satisfied: gensim in /usr/local/lib/python3.6/dist-packages (3.6.0)\n",
            "Requirement already satisfied: smart-open>=1.2.1 in /usr/local/lib/python3.6/dist-packages (from gensim) (1.9.0)\n",
            "Requirement already satisfied: scipy>=0.18.1 in /usr/local/lib/python3.6/dist-packages (from gensim) (1.3.1)\n",
            "Requirement already satisfied: six>=1.5.0 in /usr/local/lib/python3.6/dist-packages (from gensim) (1.12.0)\n",
            "Requirement already satisfied: numpy>=1.11.3 in /usr/local/lib/python3.6/dist-packages (from gensim) (1.17.3)\n",
            "Requirement already satisfied: boto3 in /usr/local/lib/python3.6/dist-packages (from smart-open>=1.2.1->gensim) (1.10.13)\n",
            "Requirement already satisfied: requests in /usr/local/lib/python3.6/dist-packages (from smart-open>=1.2.1->gensim) (2.21.0)\n",
            "Requirement already satisfied: boto>=2.32 in /usr/local/lib/python3.6/dist-packages (from smart-open>=1.2.1->gensim) (2.49.0)\n",
            "Requirement already satisfied: s3transfer<0.3.0,>=0.2.0 in /usr/local/lib/python3.6/dist-packages (from boto3->smart-open>=1.2.1->gensim) (0.2.1)\n",
            "Requirement already satisfied: botocore<1.14.0,>=1.13.13 in /usr/local/lib/python3.6/dist-packages (from boto3->smart-open>=1.2.1->gensim) (1.13.13)\n",
            "Requirement already satisfied: jmespath<1.0.0,>=0.7.1 in /usr/local/lib/python3.6/dist-packages (from boto3->smart-open>=1.2.1->gensim) (0.9.4)\n",
            "Requirement already satisfied: urllib3<1.25,>=1.21.1 in /usr/local/lib/python3.6/dist-packages (from requests->smart-open>=1.2.1->gensim) (1.24.3)\n",
            "Requirement already satisfied: chardet<3.1.0,>=3.0.2 in /usr/local/lib/python3.6/dist-packages (from requests->smart-open>=1.2.1->gensim) (3.0.4)\n",
            "Requirement already satisfied: idna<2.9,>=2.5 in /usr/local/lib/python3.6/dist-packages (from requests->smart-open>=1.2.1->gensim) (2.8)\n",
            "Requirement already satisfied: certifi>=2017.4.17 in /usr/local/lib/python3.6/dist-packages (from requests->smart-open>=1.2.1->gensim) (2019.9.11)\n",
            "Requirement already satisfied: python-dateutil<2.8.1,>=2.1; python_version >= \"2.7\" in /usr/local/lib/python3.6/dist-packages (from botocore<1.14.0,>=1.13.13->boto3->smart-open>=1.2.1->gensim) (2.6.1)\n",
            "Requirement already satisfied: docutils<0.16,>=0.10 in /usr/local/lib/python3.6/dist-packages (from botocore<1.14.0,>=1.13.13->boto3->smart-open>=1.2.1->gensim) (0.15.2)\n"
          ],
          "name": "stdout"
        }
      ]
    },
    {
      "cell_type": "code",
      "metadata": {
        "id": "RCV9mB2-QtU-",
        "colab_type": "code",
        "outputId": "275e0475-36cb-4040-f34b-55a1600c94bf",
        "colab": {
          "base_uri": "https://localhost:8080/",
          "height": 71
        }
      },
      "source": [
        "EMBEDDING_FILE = '/root/input/GoogleNews-vectors-negative300.bin.gz' # from above\n",
        "model = KeyedVectors.load_word2vec_format(EMBEDDING_FILE, binary=True)"
      ],
      "execution_count": 0,
      "outputs": [
        {
          "output_type": "stream",
          "text": [
            "/usr/local/lib/python3.6/dist-packages/smart_open/smart_open_lib.py:402: UserWarning: This function is deprecated, use smart_open.open instead. See the migration notes for details: https://github.com/RaRe-Technologies/smart_open/blob/master/README.rst#migrating-to-the-new-open-function\n",
            "  'See the migration notes for details: %s' % _MIGRATION_NOTES_URL\n"
          ],
          "name": "stderr"
        }
      ]
    },
    {
      "cell_type": "markdown",
      "metadata": {
        "id": "cCSVOdljRy07",
        "colab_type": "text"
      },
      "source": [
        "Add logging support."
      ]
    },
    {
      "cell_type": "code",
      "metadata": {
        "id": "upOc-8jUR07k",
        "colab_type": "code",
        "colab": {}
      },
      "source": [
        "import logging\n",
        "from pprint import pprint # pretty print output\n",
        "logging.basicConfig(format='%(asctime)s : %(levelname)s : %(message)s', level=logging.INFO)"
      ],
      "execution_count": 0,
      "outputs": []
    },
    {
      "cell_type": "markdown",
      "metadata": {
        "id": "c5XP5DMRR-1K",
        "colab_type": "text"
      },
      "source": [
        "## Problem\n",
        "The goal is to find interesting related words given a set of words, i.e. understand the ‘theme’ and get an effective ranking of the words."
      ]
    },
    {
      "cell_type": "markdown",
      "metadata": {
        "id": "Oa3CGLTXTNsy",
        "colab_type": "text"
      },
      "source": [
        "Before we start, let us define an auxillary method which will remove words from the list which are not present in the vocabulary."
      ]
    },
    {
      "cell_type": "code",
      "metadata": {
        "id": "DCTYtv40TgNy",
        "colab_type": "code",
        "colab": {}
      },
      "source": [
        "# filters words not in the model vocabulary\n",
        "def filter_words_not_in_vocab(model, list_of_words):\n",
        "    word_vectors = model.wv\n",
        "    return list(filter(lambda x: x in word_vectors.vocab, list_of_words))"
      ],
      "execution_count": 0,
      "outputs": []
    },
    {
      "cell_type": "markdown",
      "metadata": {
        "id": "nZubWoW5SM1d",
        "colab_type": "text"
      },
      "source": [
        "### Metrics for ranking\n",
        "#### Metric 1 (Cosine-mean similarity): \n",
        "This method computes cosine similarity between a simple mean of the projection weight vectors of the given words and returns the top-N most similar vecs from the training set. gensim provides a pre-defined method [most_similar()](https://tedboy.github.io/nlps/generated/generated/gensim.models.Word2Vec.most_similar.html) for this.\n",
        "#### Metric 2 (Frequency count):\n",
        "This method finds the words which occur most number of times within top-N cosine distance of each input word.\n"
      ]
    },
    {
      "cell_type": "code",
      "metadata": {
        "id": "KV4CToV2SprV",
        "colab_type": "code",
        "colab": {}
      },
      "source": [
        "from itertools import chain\n",
        "from collections import Counter\n",
        "\n",
        "# this method takes in a list of words and returns top 20 words which are \n",
        "# closest to most of the input words. \n",
        "def find_highest_frequency(model, list_of_words):\n",
        "    closest_words = []\n",
        "    for word in list_of_words:\n",
        "        words = model.similar_by_word(word, topn=50, restrict_vocab=None)\n",
        "        words = [x[0] for x in words]\n",
        "        closest_words = closest_words + words\n",
        "    freq_count = Counter(chain(closest_words)).most_common(20)\n",
        "    return [x[0] for x in freq_count]"
      ],
      "execution_count": 0,
      "outputs": []
    },
    {
      "cell_type": "markdown",
      "metadata": {
        "id": "lwx2pT3VSXyv",
        "colab_type": "text"
      },
      "source": [
        "### Themes\n",
        "For the sake of a qualitative analysis, we chose seven popular themes."
      ]
    },
    {
      "cell_type": "markdown",
      "metadata": {
        "id": "lTiPvq0BSeDh",
        "colab_type": "text"
      },
      "source": [
        "#### Theme 1: Animals \n",
        "This is the most basic input, where the goal would be to come up with more animal names.\n"
      ]
    },
    {
      "cell_type": "markdown",
      "metadata": {
        "id": "heSAn3sNTxW_",
        "colab_type": "text"
      },
      "source": [
        "1. Define the animal words list. Input words are taken from a crossword."
      ]
    },
    {
      "cell_type": "code",
      "metadata": {
        "id": "l8fPC9n7UJg2",
        "colab_type": "code",
        "colab": {}
      },
      "source": [
        "words_list = ['galapagos', 'gecko','leopard','octopus','horse','fangs','numbat','egg',\n",
        "'milli','bee','raccoon','eel','dolphin','dodo','dhole','goat','hyena','seahorse','lions']"
      ],
      "execution_count": 0,
      "outputs": []
    },
    {
      "cell_type": "code",
      "metadata": {
        "id": "EJIXtx5-XZk_",
        "colab_type": "code",
        "colab": {}
      },
      "source": [
        "words_list = ['Porbandar', 'Putli_Bai', 'Ram', 'Time', 'India', 'Aga', 'Abdul'\n",
        "              , 'soul', 'Charkha', 'butter', 'lawyer', 'Naidu', 'railway'\n",
        "              , 'quit', 'laugh', 'water', 'earth', 'evil', 'Dandi']"
      ],
      "execution_count": 0,
      "outputs": []
    },
    {
      "cell_type": "markdown",
      "metadata": {
        "id": "GM4mRX1LUrM6",
        "colab_type": "text"
      },
      "source": [
        "2. Filter words not in vocabulary."
      ]
    },
    {
      "cell_type": "code",
      "metadata": {
        "id": "5xnL4ieVUudj",
        "colab_type": "code",
        "outputId": "ad988fbf-d705-4d4b-caee-f7c109c46ba5",
        "colab": {
          "base_uri": "https://localhost:8080/",
          "height": 88
        }
      },
      "source": [
        "filtered_words_list = filter_words_not_in_vocab(model, words_list)\n",
        "words_not_in_vocab = set(words_list) - set(filtered_words_list)\n",
        "print(\"Following {} words not in vocab:\".format(len(words_not_in_vocab)), words_not_in_vocab)"
      ],
      "execution_count": 0,
      "outputs": [
        {
          "output_type": "stream",
          "text": [
            "Following 1 words not in vocab: {'Putli_Bai'}\n"
          ],
          "name": "stdout"
        },
        {
          "output_type": "stream",
          "text": [
            "/usr/local/lib/python3.6/dist-packages/ipykernel_launcher.py:2: DeprecationWarning: Call to deprecated `wv` (Attribute will be removed in 4.0.0, use self instead).\n",
            "  \n"
          ],
          "name": "stderr"
        }
      ]
    },
    {
      "cell_type": "markdown",
      "metadata": {
        "id": "n9AhYpTcU17m",
        "colab_type": "text"
      },
      "source": [
        "3. Compute most similar words using metric 1."
      ]
    },
    {
      "cell_type": "code",
      "metadata": {
        "id": "Dg2wWqKdU5qc",
        "colab_type": "code",
        "outputId": "d113cdc4-d3f8-4046-ade2-a832ac6eec00",
        "colab": {
          "base_uri": "https://localhost:8080/",
          "height": 411
        }
      },
      "source": [
        "pprint(model.most_similar(positive=filtered_words_list, topn=20))"
      ],
      "execution_count": 0,
      "outputs": [
        {
          "output_type": "stream",
          "text": [
            "/usr/local/lib/python3.6/dist-packages/gensim/matutils.py:737: FutureWarning: Conversion of the second argument of issubdtype from `int` to `np.signedinteger` is deprecated. In future, it will be treated as `np.int64 == np.dtype(int).type`.\n",
            "  if np.issubdtype(vec.dtype, np.int):\n"
          ],
          "name": "stderr"
        },
        {
          "output_type": "stream",
          "text": [
            "[('karma_bhoomi', 0.6687738299369812),\n",
            " ('Birwa', 0.6614679098129272),\n",
            " ('Lalooji', 0.6578205823898315),\n",
            " ('Shastriji', 0.654352068901062),\n",
            " ('By_Riyanki_Das', 0.6538019776344299),\n",
            " ('Photo_C._Ratheesh', 0.6506340503692627),\n",
            " ('Dutt_saab', 0.6500939130783081),\n",
            " ('AP_Photo_Bikas', 0.649888277053833),\n",
            " ('Subhendu', 0.6484553217887878),\n",
            " ('sanyasi', 0.6483239531517029),\n",
            " ('Chandra_Bhan', 0.6478111743927002),\n",
            " ('Gurdas', 0.647689938545227),\n",
            " ('Bhapkar', 0.6473879218101501),\n",
            " ('Shivnath', 0.6459715962409973),\n",
            " ('Ram_Dev', 0.6449568867683411),\n",
            " ('Masterji', 0.6449494361877441),\n",
            " ('Narendrabhai', 0.6432783603668213),\n",
            " ('Pejavar_Mutt', 0.6429892778396606),\n",
            " ('Khan_saab', 0.6411842107772827),\n",
            " ('Debaprasad', 0.6405091285705566)]\n"
          ],
          "name": "stdout"
        }
      ]
    },
    {
      "cell_type": "markdown",
      "metadata": {
        "id": "4HBtHl9gU9CL",
        "colab_type": "text"
      },
      "source": [
        "4. Compute most similar words using metric 2."
      ]
    },
    {
      "cell_type": "code",
      "metadata": {
        "id": "eYK16P36U_5v",
        "colab_type": "code",
        "outputId": "fad133fd-bf82-452e-846c-02dcebae0f98",
        "colab": {
          "base_uri": "https://localhost:8080/",
          "height": 411
        }
      },
      "source": [
        "pprint(find_highest_frequency(model, filtered_words_list))"
      ],
      "execution_count": 0,
      "outputs": [
        {
          "output_type": "stream",
          "text": [
            "/usr/local/lib/python3.6/dist-packages/gensim/matutils.py:737: FutureWarning: Conversion of the second argument of issubdtype from `int` to `np.signedinteger` is deprecated. In future, it will be treated as `np.int64 == np.dtype(int).type`.\n",
            "  if np.issubdtype(vec.dtype, np.int):\n"
          ],
          "name": "stderr"
        },
        {
          "output_type": "stream",
          "text": [
            "['Gujarat',\n",
            " 'Porbander',\n",
            " 'Bhavnagar',\n",
            " 'Valsad',\n",
            " 'Junagadh',\n",
            " 'Navsari',\n",
            " 'Bharuch',\n",
            " 'Ramanathapuram',\n",
            " 'Amreli',\n",
            " 'Bhatkal',\n",
            " 'Visakhapatnam',\n",
            " 'Hubli',\n",
            " 'Alappuzha',\n",
            " 'Kollam',\n",
            " 'Veraval',\n",
            " 'Jamnagar',\n",
            " 'Valsad_district',\n",
            " 'Nalgonda',\n",
            " 'Kolhapur',\n",
            " 'Bhadrak']\n"
          ],
          "name": "stdout"
        }
      ]
    },
    {
      "cell_type": "markdown",
      "metadata": {
        "id": "pBvlIrUXWeCy",
        "colab_type": "text"
      },
      "source": [
        "##### Comments\n",
        "Overall, the results are quite good, as it suggested a variety of other animals such as turtles, otters, critter and rhinoceros."
      ]
    },
    {
      "cell_type": "markdown",
      "metadata": {
        "colab_type": "text",
        "id": "baYzYWV7W13F"
      },
      "source": [
        "#### Theme 2: Travel \n",
        "Here, the words are related but do not fall in the same class, eg. “FLIGHT” and “VISA”.\n"
      ]
    },
    {
      "cell_type": "markdown",
      "metadata": {
        "colab_type": "text",
        "id": "YHLHgp27XBk-"
      },
      "source": [
        "1. Define the words list. Input words are taken from a [crossword](https://amuselabs.com/pmm/crossword?id=3f5ecc40&set=ff4e9d1bdcc8f5a6231b9bf907d68d4c697315c0e869c9d9c19cbc37a9f855ae&test=1)."
      ]
    },
    {
      "cell_type": "code",
      "metadata": {
        "id": "fEClu4spXN0o",
        "colab_type": "code",
        "colab": {}
      },
      "source": [
        "words_list = ['visa', 'flight', 'cruise', 'quad', 'tip', 'eta', 'agent',\n",
        "              'day', 'non', 'class', 'inter', 'boat', 'vacation', 'open', 'plan', 'asia'\n",
        "              ,'air', 'frequent', 'cab', 'guide', 'transit', 'terra']"
      ],
      "execution_count": 0,
      "outputs": []
    },
    {
      "cell_type": "markdown",
      "metadata": {
        "colab_type": "text",
        "id": "f8RHx3zgXXm_"
      },
      "source": [
        "2. Filter words not in vocabulary."
      ]
    },
    {
      "cell_type": "code",
      "metadata": {
        "colab_type": "code",
        "outputId": "8376ddfd-3fad-4db3-d52e-63de4310f325",
        "id": "iyx6tmU0XZ7S",
        "colab": {
          "base_uri": "https://localhost:8080/"
        }
      },
      "source": [
        "filtered_words_list = filter_words_not_in_vocab(model, words_list)\n",
        "words_not_in_vocab = set(words_list) - set(filtered_words_list)\n",
        "print(\"Following {} words not in vocab:\".format(len(words_not_in_vocab)), words_not_in_vocab)"
      ],
      "execution_count": 0,
      "outputs": [
        {
          "output_type": "stream",
          "text": [
            "Following 0 words not in vocab: set()\n"
          ],
          "name": "stdout"
        },
        {
          "output_type": "stream",
          "text": [
            "/usr/local/lib/python3.6/dist-packages/ipykernel_launcher.py:2: DeprecationWarning: Call to deprecated `wv` (Attribute will be removed in 4.0.0, use self instead).\n",
            "  \n"
          ],
          "name": "stderr"
        }
      ]
    },
    {
      "cell_type": "markdown",
      "metadata": {
        "id": "75ymljm-Xjto",
        "colab_type": "text"
      },
      "source": [
        "3. Compute most similar words using metric 1."
      ]
    },
    {
      "cell_type": "code",
      "metadata": {
        "colab_type": "code",
        "outputId": "58d96339-dede-4d78-a1e4-a8ae1c178f87",
        "id": "4i94xikZXtu-",
        "colab": {
          "base_uri": "https://localhost:8080/"
        }
      },
      "source": [
        "pprint(model.most_similar(positive=filtered_words_list, topn=20))"
      ],
      "execution_count": 0,
      "outputs": [
        {
          "output_type": "stream",
          "text": [
            "/usr/local/lib/python3.6/dist-packages/gensim/matutils.py:737: FutureWarning: Conversion of the second argument of issubdtype from `int` to `np.signedinteger` is deprecated. In future, it will be treated as `np.int64 == np.dtype(int).type`.\n",
            "  if np.issubdtype(vec.dtype, np.int):\n"
          ],
          "name": "stderr"
        },
        {
          "output_type": "stream",
          "text": [
            "[('Reykjavik_Excursions', 0.5865437984466553),\n",
            " ('Volcanic_ash_halts', 0.5828834772109985),\n",
            " ('Muscat_Fujairah', 0.5724595785140991),\n",
            " ('Priced_separately', 0.5717782974243164),\n",
            " ('Dense_fog_disrupts', 0.5714766979217529),\n",
            " ('China_quarantined_planeloads', 0.5711870193481445),\n",
            " ('Complimentary_childcare', 0.5675526857376099),\n",
            " ('Fog_disrupts', 0.5640560388565063),\n",
            " ('Antimatter_detector', 0.5639382600784302),\n",
            " ('Flyaway_Tours', 0.5624248385429382),\n",
            " ('KF_OOE', 0.5609842538833618),\n",
            " ('ships_Azamara_Journey', 0.5543647408485413),\n",
            " ('Complimentary_valet', 0.5532411932945251),\n",
            " ('Aegean_Odyssey', 0.551947295665741),\n",
            " ('Fabio_complimented', 0.5478428602218628),\n",
            " ('deluxe_motorcoach', 0.5466270446777344),\n",
            " ('Metro_Trip_Planner', 0.5443207025527954),\n",
            " ('Aguadilla_Ponce', 0.5404565930366516),\n",
            " ('Qantas_flight_QF###', 0.5404477715492249),\n",
            " ('%_#F########_3v.jsn', 0.5395424365997314)]\n"
          ],
          "name": "stdout"
        }
      ]
    },
    {
      "cell_type": "markdown",
      "metadata": {
        "id": "rYCaKe6GXwNT",
        "colab_type": "text"
      },
      "source": [
        "4. Compute most similar words using metric 2."
      ]
    },
    {
      "cell_type": "code",
      "metadata": {
        "id": "urrnlVP_X1fK",
        "colab_type": "code",
        "outputId": "5ede98a5-6cb1-4a05-d26f-d8f16626c100",
        "colab": {
          "base_uri": "https://localhost:8080/"
        }
      },
      "source": [
        "pprint(find_highest_frequency(model, filtered_words_list))"
      ],
      "execution_count": 0,
      "outputs": [
        {
          "output_type": "stream",
          "text": [
            "/usr/local/lib/python3.6/dist-packages/gensim/matutils.py:737: FutureWarning: Conversion of the second argument of issubdtype from `int` to `np.signedinteger` is deprecated. In future, it will be treated as `np.int64 == np.dtype(int).type`.\n",
            "  if np.issubdtype(vec.dtype, np.int):\n"
          ],
          "name": "stderr"
        },
        {
          "output_type": "stream",
          "text": [
            "['tips',\n",
            " 'firme',\n",
            " 'seu',\n",
            " 'daily',\n",
            " 'visas',\n",
            " 'passport',\n",
            " 'tourist_visa',\n",
            " 'Visas',\n",
            " 'tourist_visas',\n",
            " 'nonimmigrant_visa',\n",
            " 'permanent_residency',\n",
            " 'Schengen_visa',\n",
            " 'Schengen_visas',\n",
            " 'nonimmigrant_visas',\n",
            " 'greencard',\n",
            " 'passports',\n",
            " 'issuing_visas',\n",
            " 'asylum',\n",
            " 'H1B_visa',\n",
            " 'visa_waiver']\n"
          ],
          "name": "stdout"
        }
      ]
    },
    {
      "cell_type": "markdown",
      "metadata": {
        "colab_type": "text",
        "id": "xka7mj10X7-r"
      },
      "source": [
        "##### Comments\n",
        "The results from metric 1 are not relevant as the input words are quite generic while the results look like phrases from news headlines. The results from metric 2 are more relevant as we get words like passport and greencard."
      ]
    },
    {
      "cell_type": "markdown",
      "metadata": {
        "colab_type": "text",
        "id": "D6ywqj0UYMdL"
      },
      "source": [
        "#### Theme 3: Sports\n",
        "This is a more diverse domain, where the words might be a specific method of dismissal in cricket or name of a cricket stadium."
      ]
    },
    {
      "cell_type": "markdown",
      "metadata": {
        "colab_type": "text",
        "id": "Lc7n0yObYMdM"
      },
      "source": [
        "1. Define the words list. Input words are taken from a [crossword](http://cdn3.amuselabs.com/hindu/crossword?id=1e05e717&set=hindu-sport-on)."
      ]
    },
    {
      "cell_type": "code",
      "metadata": {
        "colab_type": "code",
        "id": "hnsOTvphYMdN",
        "colab": {}
      },
      "source": [
        "words_list = ['leg_before_wicket', 'aga', 'tracy', 'in_swing', 'dominic_thiem', 'bars', 'sascha', 'bishan_bedi', 'ryder_cup', 'bradshaw', 'rene_arnoux',\n",
        "              'ayrton', 'bean', 'bayern_munich', 'detroit', 'targa', 'ted', 'preakness_stakes',\n",
        "              'vandesar', 'rabada', 'erasmus', 'dan_carter', 'baton', 'hernan', 'zola', 'franck', 'juan_martin', 'rhythmic', \n",
        "              'juventus', 'white_shark', 'andres', 'cash', 'one_day', 'umaga', 'elizabeth', 'thistle',\n",
        "              'agassi', 'wankhede']"
      ],
      "execution_count": 0,
      "outputs": []
    },
    {
      "cell_type": "markdown",
      "metadata": {
        "colab_type": "text",
        "id": "EEpgt0Z3YMdQ"
      },
      "source": [
        "2. Filter words not in vocabulary."
      ]
    },
    {
      "cell_type": "code",
      "metadata": {
        "colab_type": "code",
        "outputId": "b88f55ee-0656-4ffc-8647-d8063fa622bb",
        "id": "zjQ133XdYMdR",
        "colab": {
          "base_uri": "https://localhost:8080/"
        }
      },
      "source": [
        "filtered_words_list = filter_words_not_in_vocab(model, words_list)\n",
        "words_not_in_vocab = set(words_list) - set(filtered_words_list)\n",
        "print(\"Following {} words not in vocab:\".format(len(words_not_in_vocab)), words_not_in_vocab)"
      ],
      "execution_count": 0,
      "outputs": [
        {
          "output_type": "stream",
          "text": [
            "Following 21 words not in vocab: {'wankhede', 'one_day', 'preakness_stakes', 'vandesar', 'zola', 'erasmus', 'white_shark', 'agassi', 'sascha', 'hernan', 'leg_before_wicket', 'franck', 'bradshaw', 'ayrton', 'rene_arnoux', 'dan_carter', 'juan_martin', 'dominic_thiem', 'in_swing', 'rabada', 'bishan_bedi'}\n"
          ],
          "name": "stdout"
        },
        {
          "output_type": "stream",
          "text": [
            "/usr/local/lib/python3.6/dist-packages/ipykernel_launcher.py:2: DeprecationWarning: Call to deprecated `wv` (Attribute will be removed in 4.0.0, use self instead).\n",
            "  \n"
          ],
          "name": "stderr"
        }
      ]
    },
    {
      "cell_type": "markdown",
      "metadata": {
        "colab_type": "text",
        "id": "WNezksIBYMdU"
      },
      "source": [
        "3. Compute most similar words using metric 1."
      ]
    },
    {
      "cell_type": "code",
      "metadata": {
        "colab_type": "code",
        "outputId": "9949c912-20de-4129-e65d-55d678e36800",
        "id": "sJwdDMExYMdU",
        "colab": {
          "base_uri": "https://localhost:8080/"
        }
      },
      "source": [
        "pprint(model.most_similar(positive=filtered_words_list, topn=20))"
      ],
      "execution_count": 0,
      "outputs": [
        {
          "output_type": "stream",
          "text": [
            "/usr/local/lib/python3.6/dist-packages/gensim/matutils.py:737: FutureWarning: Conversion of the second argument of issubdtype from `int` to `np.signedinteger` is deprecated. In future, it will be treated as `np.int64 == np.dtype(int).type`.\n",
            "  if np.issubdtype(vec.dtype, np.int):\n"
          ],
          "name": "stderr"
        },
        {
          "output_type": "stream",
          "text": [
            "[('JeremyShockey_@', 0.7732208371162415),\n",
            " ('nikki', 0.7589539289474487),\n",
            " ('dpa_fp', 0.7588638067245483),\n",
            " ('newsdesk@afxnews.com_rw', 0.7524714469909668),\n",
            " ('SheldenWilliams_@', 0.749648928642273),\n",
            " ('dpa_jbp', 0.7483022809028625),\n",
            " ('newsdesk@afxnews.com_gh', 0.7479081749916077),\n",
            " ('dpa_cp', 0.746633768081665),\n",
            " ('newsdesk@afxnews.com_bk', 0.7439806461334229),\n",
            " ('dpa_fm', 0.7435202598571777),\n",
            " ('dpa_rt', 0.7434886693954468),\n",
            " (\"o'brien\", 0.7432399988174438),\n",
            " ('checkauth_root', 0.7429306507110596),\n",
            " ('kulhadd', 0.739621639251709),\n",
            " ('newsdesk@afxnews.com_fp', 0.7377362251281738),\n",
            " ('dpa_amc', 0.7372328639030457),\n",
            " ('dpa_dc', 0.7344260215759277),\n",
            " ('dpa_si', 0.7329121232032776),\n",
            " ('metro_philadelphia', 0.7322756052017212),\n",
            " ('juss', 0.7320501804351807)]\n"
          ],
          "name": "stdout"
        }
      ]
    },
    {
      "cell_type": "markdown",
      "metadata": {
        "colab_type": "text",
        "id": "2AGTcptMYMda"
      },
      "source": [
        "4. Compute most similar words using metric 2."
      ]
    },
    {
      "cell_type": "code",
      "metadata": {
        "colab_type": "code",
        "outputId": "fa590aae-e635-4111-dcf7-ca5ac6dd7e9f",
        "id": "VrgubEtdYMdb",
        "colab": {
          "base_uri": "https://localhost:8080/"
        }
      },
      "source": [
        "pprint(find_highest_frequency(model, filtered_words_list))"
      ],
      "execution_count": 0,
      "outputs": [
        {
          "output_type": "stream",
          "text": [
            "/usr/local/lib/python3.6/dist-packages/gensim/matutils.py:737: FutureWarning: Conversion of the second argument of issubdtype from `int` to `np.signedinteger` is deprecated. In future, it will be treated as `np.int64 == np.dtype(int).type`.\n",
            "  if np.issubdtype(vec.dtype, np.int):\n"
          ],
          "name": "stderr"
        },
        {
          "output_type": "stream",
          "text": [
            "['lori',\n",
            " 'gilbert',\n",
            " 'inter_milan',\n",
            " 'ra',\n",
            " 'te',\n",
            " 'ving',\n",
            " '¬_tion',\n",
            " 'ta',\n",
            " 'bri',\n",
            " 'ys',\n",
            " 'danielle',\n",
            " 'nigel',\n",
            " 'gordon',\n",
            " 'jesse',\n",
            " 'michele',\n",
            " 'susan',\n",
            " 'joel',\n",
            " 'ryan',\n",
            " 'jensen',\n",
            " 'mitchell']\n"
          ],
          "name": "stdout"
        }
      ]
    },
    {
      "cell_type": "markdown",
      "metadata": {
        "colab_type": "text",
        "id": "-YDvzhpHYMdd"
      },
      "source": [
        "##### Comments\n",
        "A majority of words were not present in the dictionary, but the top results are relevant as Jeremy Shockey is a famous footballer and nikki (Nikki Bella) is a professional wrestler. The remaining results are less relevant."
      ]
    },
    {
      "cell_type": "markdown",
      "metadata": {
        "colab_type": "text",
        "id": "aE_-SuTzYy6y"
      },
      "source": [
        "#### Theme 4: Entertainment\n",
        "This theme covers the mass pop culture including music, movies, celebrities, music etc."
      ]
    },
    {
      "cell_type": "markdown",
      "metadata": {
        "colab_type": "text",
        "id": "HLyzuD9lYy6z"
      },
      "source": [
        "1. Define the words list. Input words are taken from a [crossword](http://www.clarity-media.co.uk/celebrity-crossword-sample.pdf)."
      ]
    },
    {
      "cell_type": "code",
      "metadata": {
        "colab_type": "code",
        "id": "WhFXcQYLYy60",
        "colab": {}
      },
      "source": [
        "words_list = ['rachel', 'rovers', 'the_game', 'inred', 'itch',\n",
        "              'apple', 'harry', 'fish', 'eared', 'trigger', 'ursula',\n",
        "              'helena', 'britain', 'screech', 'cedar', 'gorilla',\n",
        "              'keira', 'aside', 'jesus', 'cross', 'gandalf', 'desperate',\n",
        "              'piper', 'dinglers', 'aside', 'sherman']"
      ],
      "execution_count": 0,
      "outputs": []
    },
    {
      "cell_type": "markdown",
      "metadata": {
        "colab_type": "text",
        "id": "9j8I1RDvYy62"
      },
      "source": [
        "2. Filter words not in vocabulary."
      ]
    },
    {
      "cell_type": "code",
      "metadata": {
        "colab_type": "code",
        "outputId": "b3124ad6-74d3-4e56-fc8e-f40515e72897",
        "id": "ao0KMzMVYy63",
        "colab": {
          "base_uri": "https://localhost:8080/"
        }
      },
      "source": [
        "filtered_words_list = filter_words_not_in_vocab(model, words_list)\n",
        "words_not_in_vocab = set(words_list) - set(filtered_words_list)\n",
        "print(\"Following {} words not in vocab:\".format(len(words_not_in_vocab)), words_not_in_vocab)"
      ],
      "execution_count": 0,
      "outputs": [
        {
          "output_type": "stream",
          "text": [
            "Following 6 words not in vocab: {'the_game', 'dinglers', 'keira', 'helena', 'gandalf', 'inred'}\n"
          ],
          "name": "stdout"
        },
        {
          "output_type": "stream",
          "text": [
            "/usr/local/lib/python3.6/dist-packages/ipykernel_launcher.py:2: DeprecationWarning: Call to deprecated `wv` (Attribute will be removed in 4.0.0, use self instead).\n",
            "  \n"
          ],
          "name": "stderr"
        }
      ]
    },
    {
      "cell_type": "markdown",
      "metadata": {
        "colab_type": "text",
        "id": "eEiNqcAoYy65"
      },
      "source": [
        "3. Compute most similar words using metric 1."
      ]
    },
    {
      "cell_type": "code",
      "metadata": {
        "colab_type": "code",
        "outputId": "2577102d-d22d-4131-c96f-ef6ac953b7c8",
        "id": "0IDYamPwYy65",
        "colab": {
          "base_uri": "https://localhost:8080/"
        }
      },
      "source": [
        "pprint(model.most_similar(positive=filtered_words_list, topn=20))"
      ],
      "execution_count": 0,
      "outputs": [
        {
          "output_type": "stream",
          "text": [
            "/usr/local/lib/python3.6/dist-packages/gensim/matutils.py:737: FutureWarning: Conversion of the second argument of issubdtype from `int` to `np.signedinteger` is deprecated. In future, it will be treated as `np.int64 == np.dtype(int).type`.\n",
            "  if np.issubdtype(vec.dtype, np.int):\n"
          ],
          "name": "stderr"
        },
        {
          "output_type": "stream",
          "text": [
            "[('checkauth_root', 0.6856364011764526),\n",
            " ('fukin', 0.6675687432289124),\n",
            " ('lubber', 0.6608096361160278),\n",
            " ('AdrianneCurry_@', 0.6577449440956116),\n",
            " ('samantharonson_@', 0.6558294892311096),\n",
            " ('lizzie', 0.6544391512870789),\n",
            " ('nikki', 0.6455890536308289),\n",
            " ('JeremyShockey_@', 0.642753541469574),\n",
            " ('SheldenWilliams_@', 0.6425633430480957),\n",
            " ('fookin', 0.636864185333252),\n",
            " ('questlove_@', 0.6367624998092651),\n",
            " ('yella', 0.6311221122741699),\n",
            " ('Hee_hee', 0.6300792694091797),\n",
            " ('hev', 0.6293219327926636),\n",
            " ('Whadda', 0.6259427070617676),\n",
            " (\"Ah'm\", 0.6252166032791138),\n",
            " ('Ooh_ooh', 0.6230376958847046),\n",
            " ('willie', 0.6221100687980652),\n",
            " ('pish', 0.621886670589447),\n",
            " ('sh1t', 0.6218252778053284)]\n"
          ],
          "name": "stdout"
        }
      ]
    },
    {
      "cell_type": "markdown",
      "metadata": {
        "colab_type": "text",
        "id": "b_LsY4bfYy6-"
      },
      "source": [
        "4. Compute most similar words using metric 2."
      ]
    },
    {
      "cell_type": "code",
      "metadata": {
        "colab_type": "code",
        "outputId": "7fc04b36-103c-4577-a3e5-8949b0297891",
        "id": "P-j9CQEYYy6_",
        "colab": {
          "base_uri": "https://localhost:8080/"
        }
      },
      "source": [
        "pprint(find_highest_frequency(model, filtered_words_list))"
      ],
      "execution_count": 0,
      "outputs": [
        {
          "output_type": "stream",
          "text": [
            "/usr/local/lib/python3.6/dist-packages/gensim/matutils.py:737: FutureWarning: Conversion of the second argument of issubdtype from `int` to `np.signedinteger` is deprecated. In future, it will be treated as `np.int64 == np.dtype(int).type`.\n",
            "  if np.issubdtype(vec.dtype, np.int):\n"
          ],
          "name": "stderr"
        },
        {
          "output_type": "stream",
          "text": [
            "['nigel',\n",
            " 'harvey',\n",
            " 'jesse',\n",
            " 'cohen',\n",
            " 'nikki',\n",
            " 'derek',\n",
            " 'michele',\n",
            " 'denise',\n",
            " 'louise',\n",
            " 'becky',\n",
            " 'dave',\n",
            " 'whitney',\n",
            " 'angelina',\n",
            " 'miley',\n",
            " 'selena',\n",
            " 'joan',\n",
            " 'hitler',\n",
            " 'asides',\n",
            " 'apart',\n",
            " 'up']\n"
          ],
          "name": "stdout"
        }
      ]
    },
    {
      "cell_type": "markdown",
      "metadata": {
        "colab_type": "text",
        "id": "Zo56bu85Yy7D"
      },
      "source": [
        "##### Comments\n",
        "The results don’t make much sense using metric 1 but make more sense using metric 2."
      ]
    },
    {
      "cell_type": "markdown",
      "metadata": {
        "colab_type": "text",
        "id": "qnshnmb5ZSwk"
      },
      "source": [
        "#### Theme 5: Medical\n",
        "Medical words are quite technical and specialized, so we want to see the performance of the model in complex domains."
      ]
    },
    {
      "cell_type": "markdown",
      "metadata": {
        "colab_type": "text",
        "id": "lB0AHQwxZSwm"
      },
      "source": [
        "1. Define the words list. Input words are taken from a [crossword](https://wordmint.com/public_puzzles/73374)."
      ]
    },
    {
      "cell_type": "code",
      "metadata": {
        "colab_type": "code",
        "id": "xM9bkVZ3ZSwn",
        "colab": {}
      },
      "source": [
        "words_list = ['cell', 'midsagittal', 'diaphragm', 'yellow', 'suppurative',\n",
        "              'disease', 'ad', 'idiopathic', 'ventro', 'genesis', 'resection',\n",
        "              'adhesion','pyogenic_infection', 'steato','melanoma',\n",
        "              'bile_duct', 'digestion', 'adcess', 'meal', 'ascites',\n",
        "              'anorexia', 'bariatic', 'flatus', 'melena', 'bilirubin',\n",
        "              'hernia', 'rectostenosis', 'cervical', 'internal_organs', 'anastomosis', 'binding',\n",
        "              'biopsy']"
      ],
      "execution_count": 0,
      "outputs": []
    },
    {
      "cell_type": "markdown",
      "metadata": {
        "colab_type": "text",
        "id": "Q1-0r2VVZSwt"
      },
      "source": [
        "2. Filter words not in vocabulary."
      ]
    },
    {
      "cell_type": "code",
      "metadata": {
        "colab_type": "code",
        "outputId": "31ce117c-3512-42a0-b020-5dd51a05b742",
        "id": "LV87bsSbZSwt",
        "colab": {
          "base_uri": "https://localhost:8080/"
        }
      },
      "source": [
        "filtered_words_list = filter_words_not_in_vocab(model, words_list)\n",
        "words_not_in_vocab = set(words_list) - set(filtered_words_list)\n",
        "print(\"Following {} words not in vocab:\".format(len(words_not_in_vocab)), words_not_in_vocab)"
      ],
      "execution_count": 0,
      "outputs": [
        {
          "output_type": "stream",
          "text": [
            "Following 8 words not in vocab: {'steato', 'adcess', 'ventro', 'midsagittal', 'bariatic', 'melena', 'rectostenosis', 'pyogenic_infection'}\n"
          ],
          "name": "stdout"
        },
        {
          "output_type": "stream",
          "text": [
            "/usr/local/lib/python3.6/dist-packages/ipykernel_launcher.py:2: DeprecationWarning: Call to deprecated `wv` (Attribute will be removed in 4.0.0, use self instead).\n",
            "  \n"
          ],
          "name": "stderr"
        }
      ]
    },
    {
      "cell_type": "markdown",
      "metadata": {
        "colab_type": "text",
        "id": "HjOkSI6FZSwv"
      },
      "source": [
        "3. Compute most similar words using metric 1."
      ]
    },
    {
      "cell_type": "code",
      "metadata": {
        "colab_type": "code",
        "outputId": "e83e51a1-342a-4965-bb50-44d52f80b55c",
        "id": "bIVvPUl8ZSww",
        "colab": {
          "base_uri": "https://localhost:8080/"
        }
      },
      "source": [
        "pprint(model.most_similar(positive=filtered_words_list, topn=20))"
      ],
      "execution_count": 0,
      "outputs": [
        {
          "output_type": "stream",
          "text": [
            "/usr/local/lib/python3.6/dist-packages/gensim/matutils.py:737: FutureWarning: Conversion of the second argument of issubdtype from `int` to `np.signedinteger` is deprecated. In future, it will be treated as `np.int64 == np.dtype(int).type`.\n",
            "  if np.issubdtype(vec.dtype, np.int):\n"
          ],
          "name": "stderr"
        },
        {
          "output_type": "stream",
          "text": [
            "[('spermatic_cord', 0.7693666815757751),\n",
            " ('fibroma', 0.7680847644805908),\n",
            " ('hamartoma', 0.7637079954147339),\n",
            " ('Intussusception', 0.7620971202850342),\n",
            " ('leiomyoma', 0.7620893716812134),\n",
            " ('anal_canal', 0.7601139545440674),\n",
            " ('transfusion_syndrome', 0.7588125467300415),\n",
            " ('lichen_planus', 0.7579723596572876),\n",
            " ('carcinoid_tumor', 0.7569707632064819),\n",
            " ('hamartomas', 0.7556929588317871),\n",
            " ('pre_cancerous_lesion', 0.7542682886123657),\n",
            " ('mesenteric', 0.7541995048522949),\n",
            " ('leiomyomas', 0.7539600133895874),\n",
            " ('mucinous', 0.7507759928703308),\n",
            " ('calculi', 0.7505994439125061),\n",
            " ('lipomas', 0.7459940910339355),\n",
            " ('pannus', 0.74488365650177),\n",
            " ('cystic_lesions', 0.743402361869812),\n",
            " ('pseudoaneurysm', 0.7431955933570862),\n",
            " ('tumoral', 0.7426878213882446)]\n"
          ],
          "name": "stdout"
        }
      ]
    },
    {
      "cell_type": "markdown",
      "metadata": {
        "colab_type": "text",
        "id": "8_vhfmmwZSwy"
      },
      "source": [
        "4. Compute most similar words using metric 2."
      ]
    },
    {
      "cell_type": "code",
      "metadata": {
        "colab_type": "code",
        "outputId": "ee253842-dd1f-4a4c-97f0-10efc7ba0281",
        "id": "2_LE9YHvZSwz",
        "colab": {
          "base_uri": "https://localhost:8080/"
        }
      },
      "source": [
        "pprint(find_highest_frequency(model, filtered_words_list))"
      ],
      "execution_count": 0,
      "outputs": [
        {
          "output_type": "stream",
          "text": [
            "/usr/local/lib/python3.6/dist-packages/gensim/matutils.py:737: FutureWarning: Conversion of the second argument of issubdtype from `int` to `np.signedinteger` is deprecated. In future, it will be treated as `np.int64 == np.dtype(int).type`.\n",
            "  if np.issubdtype(vec.dtype, np.int):\n"
          ],
          "name": "stderr"
        },
        {
          "output_type": "stream",
          "text": [
            "['spermatic_cord',\n",
            " 'leiomyomas',\n",
            " 'pericardium',\n",
            " 'anal_canal',\n",
            " 'ureteral',\n",
            " 'uterus',\n",
            " 'inferior_vena_cava',\n",
            " 'chest_cavity',\n",
            " 'lungs',\n",
            " 'cardiac_tamponade',\n",
            " 'granulomatous',\n",
            " 'haematuria',\n",
            " 'leukoencephalopathy',\n",
            " 'pericardial_effusions',\n",
            " 'hemoptysis',\n",
            " 'cancer',\n",
            " 'cancers',\n",
            " 'cervical_cancer',\n",
            " 'hypoplasia',\n",
            " 'pericardial_effusion']\n"
          ],
          "name": "stdout"
        }
      ]
    },
    {
      "cell_type": "markdown",
      "metadata": {
        "colab_type": "text",
        "id": "l4dxLYzkZSw4"
      },
      "source": [
        "##### Comments\n",
        "The results here are surprisingly quite good, with a lot of medical terms such as fibroma and intussusception coming up."
      ]
    },
    {
      "cell_type": "markdown",
      "metadata": {
        "colab_type": "text",
        "id": "n8s7MUhiZx4f"
      },
      "source": [
        "#### Theme 6: Himalayas\n",
        "This is not a complex domain, but a very specialized one, and we want to see how the model will create interesting words around it."
      ]
    },
    {
      "cell_type": "markdown",
      "metadata": {
        "colab_type": "text",
        "id": "LE-SjNPHZx4g"
      },
      "source": [
        "1. Define the words list. Custom input words are chosen."
      ]
    },
    {
      "cell_type": "code",
      "metadata": {
        "colab_type": "code",
        "id": "IuVkFIawZx4g",
        "colab": {}
      },
      "source": [
        "words_list = ['Himalayas', 'everest', 'nepal', 'Ganges', 'hinduism', 'ranges', 'basin',\n",
        "              'Ice_age', 'glacier', 'monsoon', 'snow_leopard', 'Bay_of_Bengal']"
      ],
      "execution_count": 0,
      "outputs": []
    },
    {
      "cell_type": "markdown",
      "metadata": {
        "colab_type": "text",
        "id": "oYF4nexNZx4i"
      },
      "source": [
        "2. Filter words not in vocabulary."
      ]
    },
    {
      "cell_type": "code",
      "metadata": {
        "colab_type": "code",
        "outputId": "a003128e-87cc-4fb4-a788-e8057a8c34e2",
        "id": "hT1ctK3-Zx4j",
        "colab": {
          "base_uri": "https://localhost:8080/"
        }
      },
      "source": [
        "filtered_words_list = filter_words_not_in_vocab(model, words_list)\n",
        "words_not_in_vocab = set(words_list) - set(filtered_words_list)\n",
        "print(\"Following {} words not in vocab:\".format(len(words_not_in_vocab)), words_not_in_vocab)"
      ],
      "execution_count": 0,
      "outputs": [
        {
          "output_type": "stream",
          "text": [
            "Following 2 words not in vocab: {'Bay_of_Bengal', 'Ice_age'}\n"
          ],
          "name": "stdout"
        },
        {
          "output_type": "stream",
          "text": [
            "/usr/local/lib/python3.6/dist-packages/ipykernel_launcher.py:2: DeprecationWarning: Call to deprecated `wv` (Attribute will be removed in 4.0.0, use self instead).\n",
            "  \n"
          ],
          "name": "stderr"
        }
      ]
    },
    {
      "cell_type": "markdown",
      "metadata": {
        "colab_type": "text",
        "id": "86s27EimZx4l"
      },
      "source": [
        "3. Compute most similar words using metric 1."
      ]
    },
    {
      "cell_type": "code",
      "metadata": {
        "colab_type": "code",
        "outputId": "c440c24c-bb76-4a2e-dcfe-24671b85aba8",
        "id": "ce4uZy2_Zx4m",
        "colab": {
          "base_uri": "https://localhost:8080/"
        }
      },
      "source": [
        "pprint(model.most_similar(positive=filtered_words_list, topn=20))"
      ],
      "execution_count": 0,
      "outputs": [
        {
          "output_type": "stream",
          "text": [
            "/usr/local/lib/python3.6/dist-packages/gensim/matutils.py:737: FutureWarning: Conversion of the second argument of issubdtype from `int` to `np.signedinteger` is deprecated. In future, it will be treated as `np.int64 == np.dtype(int).type`.\n",
            "  if np.issubdtype(vec.dtype, np.int):\n"
          ],
          "name": "stderr"
        },
        {
          "output_type": "stream",
          "text": [
            "[('Gaumukh', 0.7075930237770081),\n",
            " ('Gangotri_glacier', 0.7022626996040344),\n",
            " ('Shivaliks', 0.6688489317893982),\n",
            " ('himalayan', 0.6661850214004517),\n",
            " ('Khumbu_Glacier', 0.6643978357315063),\n",
            " ('Dhauladhar_range', 0.658578634262085),\n",
            " ('Pir_Panjal_range', 0.655968427658081),\n",
            " ('Garhwal_Himalayas', 0.6536864638328552),\n",
            " ('Shivling', 0.6533980369567871),\n",
            " ('Eastern_Ghats', 0.6509689092636108),\n",
            " ('Gangotri_Glacier', 0.6464487314224243),\n",
            " ('Himalaya_Mountains', 0.6434546709060669),\n",
            " ('Nubra_valley', 0.6424018144607544),\n",
            " ('Karakoram_mountain', 0.640743613243103),\n",
            " ('Khumbu_glacier', 0.6397353410720825),\n",
            " ('Mansarovar_lake', 0.6384942531585693),\n",
            " ('Tsangpo', 0.6374609470367432),\n",
            " ('Shivalik_hills', 0.6358055472373962),\n",
            " ('Gangetic_plains', 0.6355847716331482),\n",
            " ('Changthang', 0.6321537494659424)]\n"
          ],
          "name": "stdout"
        }
      ]
    },
    {
      "cell_type": "markdown",
      "metadata": {
        "colab_type": "text",
        "id": "bD3f4yuiZx4o"
      },
      "source": [
        "4. Compute most similar words using metric 2."
      ]
    },
    {
      "cell_type": "code",
      "metadata": {
        "colab_type": "code",
        "outputId": "b739a82b-260d-46fb-f7b9-0bea41b6bec1",
        "id": "nMpp7KxIZx4p",
        "colab": {
          "base_uri": "https://localhost:8080/"
        }
      },
      "source": [
        "pprint(find_highest_frequency(model, filtered_words_list))"
      ],
      "execution_count": 0,
      "outputs": [
        {
          "output_type": "stream",
          "text": [
            "/usr/local/lib/python3.6/dist-packages/gensim/matutils.py:737: FutureWarning: Conversion of the second argument of issubdtype from `int` to `np.signedinteger` is deprecated. In future, it will be treated as `np.int64 == np.dtype(int).type`.\n",
            "  if np.issubdtype(vec.dtype, np.int):\n"
          ],
          "name": "stderr"
        },
        {
          "output_type": "stream",
          "text": [
            "['Khumbu_glacier',\n",
            " 'Mera_Peak',\n",
            " 'Khumbu_Glacier',\n",
            " 'Shishapangma',\n",
            " 'glaciers',\n",
            " 'Mt_Everest',\n",
            " 'mohammad',\n",
            " 'sinhala',\n",
            " 'rivers',\n",
            " 'Gangotri_glacier',\n",
            " 'Himalayan_Mountains',\n",
            " 'Himalaya_Mountains',\n",
            " 'Himalayan',\n",
            " 'Himalayan_mountains',\n",
            " 'Tibetan_plateau',\n",
            " 'Karakoram_mountains',\n",
            " 'Himalayan_peaks',\n",
            " 'Himalaya',\n",
            " 'Karakoram_mountain',\n",
            " 'Nanda_Devi']\n"
          ],
          "name": "stdout"
        }
      ]
    },
    {
      "cell_type": "markdown",
      "metadata": {
        "colab_type": "text",
        "id": "u2nh4xneZx4t"
      },
      "source": [
        "##### Comments\n",
        "The results are good, as a variety of related ranges such as Shivaliks and Pir Panjal are recommended. Also, words like Shivling are suggested, which is quite good."
      ]
    },
    {
      "cell_type": "markdown",
      "metadata": {
        "colab_type": "text",
        "id": "UMKq9iavaQqD"
      },
      "source": [
        "#### Theme 7: Computer Science\n",
        " Let us see what the model thinks about the old and new tech in computer science :)"
      ]
    },
    {
      "cell_type": "markdown",
      "metadata": {
        "colab_type": "text",
        "id": "pISpQKkbaQqE"
      },
      "source": [
        "1. Define the words list. Input words are taken from a [crossword](https://www.proprofs.com/games/crossword/computer-science/)."
      ]
    },
    {
      "cell_type": "code",
      "metadata": {
        "colab_type": "code",
        "id": "i7P-DTTfaQqF",
        "colab": {}
      },
      "source": [
        "words_list = ['RAM', 'backspace', 'LAN', 'keyboard', 'cursor', 'bookmark',\n",
        "              'Zuckerberg', 'Jobs', 'Babbage', 'bug', 'Eniac',\n",
        "              'hardware', 'CD_ROM', 'font', 'file', 'virus', 'URL']"
      ],
      "execution_count": 0,
      "outputs": []
    },
    {
      "cell_type": "markdown",
      "metadata": {
        "colab_type": "text",
        "id": "WUQQcIWVaQqH"
      },
      "source": [
        "2. Filter words not in vocabulary."
      ]
    },
    {
      "cell_type": "code",
      "metadata": {
        "colab_type": "code",
        "outputId": "6680bbcf-6dda-4dbd-a8a8-d285f0b367d6",
        "id": "FQw3V8AcaQqI",
        "colab": {
          "base_uri": "https://localhost:8080/",
          "height": 88
        }
      },
      "source": [
        "filtered_words_list = filter_words_not_in_vocab(model, words_list)\n",
        "words_not_in_vocab = set(words_list) - set(filtered_words_list)\n",
        "print(\"Following {} words not in vocab:\".format(len(words_not_in_vocab)), words_not_in_vocab)"
      ],
      "execution_count": 0,
      "outputs": [
        {
          "output_type": "stream",
          "text": [
            "Following 0 words not in vocab: set()\n"
          ],
          "name": "stdout"
        },
        {
          "output_type": "stream",
          "text": [
            "/usr/local/lib/python3.6/dist-packages/ipykernel_launcher.py:2: DeprecationWarning: Call to deprecated `wv` (Attribute will be removed in 4.0.0, use self instead).\n",
            "  \n"
          ],
          "name": "stderr"
        }
      ]
    },
    {
      "cell_type": "markdown",
      "metadata": {
        "colab_type": "text",
        "id": "RAaQQAD7aQqN"
      },
      "source": [
        "3. Compute most similar words using metric 1."
      ]
    },
    {
      "cell_type": "code",
      "metadata": {
        "colab_type": "code",
        "outputId": "70fd77b8-ec23-41b2-f01e-df06418af9e9",
        "id": "GjUs9vIdaQqO",
        "colab": {
          "base_uri": "https://localhost:8080/",
          "height": 411
        }
      },
      "source": [
        "pprint(model.most_similar(positive=filtered_words_list, topn=20))"
      ],
      "execution_count": 0,
      "outputs": [
        {
          "output_type": "stream",
          "text": [
            "/usr/local/lib/python3.6/dist-packages/gensim/matutils.py:737: FutureWarning: Conversion of the second argument of issubdtype from `int` to `np.signedinteger` is deprecated. In future, it will be treated as `np.int64 == np.dtype(int).type`.\n",
            "  if np.issubdtype(vec.dtype, np.int):\n"
          ],
          "name": "stderr"
        },
        {
          "output_type": "stream",
          "text": [
            "[('exe_file', 0.7292200922966003),\n",
            " ('htaccess', 0.7170591354370117),\n",
            " ('plist', 0.7134256958961487),\n",
            " ('ftp_server', 0.7070534825325012),\n",
            " ('XAMPP', 0.706710159778595),\n",
            " ('plist_files', 0.7057288885116577),\n",
            " ('exe_files', 0.7049909830093384),\n",
            " ('System_Configuration_Utility', 0.7033084630966187),\n",
            " ('xterm', 0.7014968991279602),\n",
            " ('pagefile', 0.6963300704956055),\n",
            " ('regedit', 0.6935948133468628),\n",
            " ('Server_Admin', 0.6906064748764038),\n",
            " ('sdcard', 0.6888519525527954),\n",
            " ('Dropbox_folder', 0.6874693632125854),\n",
            " ('update.zip', 0.6871559619903564),\n",
            " ('DLL_files', 0.6868031024932861),\n",
            " ('EXE_file', 0.6861448287963867),\n",
            " ('VS.NET', 0.6847630143165588),\n",
            " ('taskbar_icon', 0.6846297383308411),\n",
            " ('crontab', 0.6844176054000854)]\n"
          ],
          "name": "stdout"
        }
      ]
    },
    {
      "cell_type": "markdown",
      "metadata": {
        "colab_type": "text",
        "id": "bUIRFkHOaQqQ"
      },
      "source": [
        "4. Compute most similar words using metric 2."
      ]
    },
    {
      "cell_type": "code",
      "metadata": {
        "colab_type": "code",
        "outputId": "29ca6fcd-dfd6-49b4-c882-b675dd01b623",
        "id": "0du8jwkXaQqR",
        "colab": {
          "base_uri": "https://localhost:8080/",
          "height": 411
        }
      },
      "source": [
        "pprint(find_highest_frequency(model, filtered_words_list))"
      ],
      "execution_count": 0,
      "outputs": [
        {
          "output_type": "stream",
          "text": [
            "/usr/local/lib/python3.6/dist-packages/gensim/matutils.py:737: FutureWarning: Conversion of the second argument of issubdtype from `int` to `np.signedinteger` is deprecated. In future, it will be treated as `np.int64 == np.dtype(int).type`.\n",
            "  if np.issubdtype(vec.dtype, np.int):\n"
          ],
          "name": "stderr"
        },
        {
          "output_type": "stream",
          "text": [
            "['textbox',\n",
            " 'spacebar',\n",
            " 'cursor_keys',\n",
            " 'Ctrl_+_Shift',\n",
            " 'keyboard_shortcut',\n",
            " 'Fn_key',\n",
            " 'hotkey',\n",
            " 'alphanumeric_keys',\n",
            " 'numberpad',\n",
            " 'numeric_pad',\n",
            " 'numpad',\n",
            " 'arrow_keys',\n",
            " 'numeric_keypad',\n",
            " 'stylus',\n",
            " 'scroll_wheel',\n",
            " 'thumbnail_preview',\n",
            " 'Bookmarks_menu',\n",
            " 'hotlink',\n",
            " 'favicon',\n",
            " 'Ballmer']\n"
          ],
          "name": "stdout"
        }
      ]
    },
    {
      "cell_type": "markdown",
      "metadata": {
        "colab_type": "text",
        "id": "twOOPXEkaQqU"
      },
      "source": [
        "##### Comments\n",
        "The results are good overall since computer related terms such as executable files and SD cards are suggested."
      ]
    }
  ]
}